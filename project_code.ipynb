{
 "cells": [
  {
   "cell_type": "code",
   "execution_count": null,
   "metadata": {},
   "outputs": [],
   "source": [
    "import cv2\n",
    "import os\n",
    "import argparse\n",
    "import matplotlib.pyplot as plt\n",
    "import os\n",
    "from time import time\n",
    "from sklearn import metrics\n",
    "import Dataset as dataset\n",
    "import bag_of_visual_words as bovw\n",
    "import mpeg7_color_layout as mpeg7\n",
    "import candidate_selection as cand_selec\n",
    "import constraint_creation as gen_cons\n",
    "import sift as SIFT\n",
    "import PC_Kmeans as PCK\n",
    "import COP_Kmeans as COPK\n",
    "import cluster_evaluation as clus_eval\n",
    "from sklearn.metrics import silhouette_score,calinski_harabasz_score,rand_score\n",
    "\n",
    "# --------Acepting Input----------\n",
    "# Initialize parser\n",
    "parser = argparse.ArgumentParser()\n",
    "# Adding arguments\n",
    "parser.add_argument(\"--k\", required=True)\n",
    "parser.add_argument(\"--query\", required=True)\n",
    "# ---------------------------------\n",
    "\n",
    "# -------------- Parameter Declaration -------------------\n",
    "img_folder_path = '/VOCtrainval_06-Nov-2007/VOCdevkit/VOC2007/JPEGImages/'\n",
    "img_class_path = '/VOCtrainval_06-Nov-2007/VOCdevkit/VOC2007/ImageSets/Main/processed_files/'\n",
    "img_class_set_names = [{'name': 'aeroplane', 'type': 'vehicle'},\n",
    "                       {'name': 'bicycle', 'type': 'vehicle'},\n",
    "                       {'name': 'bird', 'type': 'animal'},\n",
    "                       {'name': 'boat', 'type': 'vehicle'},\n",
    "                       {'name': 'bottle', 'type': 'furniture'},\n",
    "                       {'name': 'bus', 'type': 'vehicle'},\n",
    "                       {'name': 'car', 'type': 'vehicle'},\n",
    "                       {'name': 'cat', 'type': 'animal'},\n",
    "                       {'name': 'chair', 'type': 'furniture'},\n",
    "                       {'name': 'cow', 'type': 'animal'},\n",
    "                       {'name': 'diningtable', 'type': 'furniture'},\n",
    "                       {'name': 'dog', 'type': 'animal'},\n",
    "                       {'name': 'horse', 'type': 'animal'},\n",
    "                       {'name': 'motorbike', 'type': 'vehicle'},\n",
    "                       {'name': 'person', 'type': 'person'},\n",
    "                       {'name': 'pottedplant', 'type': 'furniture'},\n",
    "                       {'name': 'sheep', 'type': 'animal'},\n",
    "                       {'name': 'sofa', 'type': 'furniture'},\n",
    "                       {'name': 'train', 'type': 'vehicle'},\n",
    "                       {'name': 'tvmonitor', 'type': 'electronics'}]\n",
    "# BOVW parameters\n",
    "bovw_kmeans_model = None\n",
    "tam_patch = (15, 15)\n",
    "n_patches = 250\n",
    "random_state = 1\n",
    "n_dic = 50  # size of the dictionary"
   ]
  },
  {
   "cell_type": "code",
   "execution_count": null,
   "metadata": {},
   "outputs": [],
   "source": [
    "def gen_clus(c_name, cand_img, cons, f_name):\n",
    "    '''Generate and Print Constrainted Cluster\\n\n",
    "       Parameters\n",
    "           c_name: cluster name\n",
    "           cand_img: candidate image list\n",
    "           cons: Constraint class object\n",
    "           f_name: feature name\n",
    "    '''\n",
    "    if c_name == \"COP\":\n",
    "        '''---------------- COP-Kmeans ---------------'''\n",
    "        c_kmeans = COPK.COP_KMeans(\n",
    "            len(cons.descripList), cons.ml_g, cons.cl_g, f_name)\n",
    "    else:\n",
    "        '''---------------- PC-Kmeans ---------------'''\n",
    "        c_kmeans = PCK.PC_Kmeans(len(cons.descripList), cons.ml_g, cons.cl_g,\n",
    "                                 cons.neighborhoods, cons.y)\n",
    "\n",
    "    c_kmeans.fit(cons.x)\n",
    "    labels = c_kmeans.predict(cons.x)\n",
    "\n",
    "    print(f'{c_name} Kmeans Clusters:')\n",
    "    for i in range(len(c_kmeans.clusters)):\n",
    "        print(f'Cluster {i + 1} :')\n",
    "        count = 0\n",
    "        for index in c_kmeans.clusters[i]:\n",
    "            count += 1\n",
    "            if count != len(c_kmeans.clusters[i]):\n",
    "                print(f'{cand_img[index].filename}, ', end='')\n",
    "            else:\n",
    "                print(f'{cand_img[index].filename}.')\n",
    "\n",
    "    return c_kmeans, labels\n",
    "\n",
    "\n",
    "def gen_feats(f_name, query_img, k, img_classSet, img_dataset, n_imgs):\n",
    "    '''Generate and Print Constrainted Cluster\\n\n",
    "       Parameters\n",
    "           f_name: cluster name\n",
    "           query_img: the query image\n",
    "           k: k neighbours for kNN\n",
    "           img_classSet: label class array\n",
    "           img_dataset: image dataset\n",
    "           n_imgs: Length of img List\n",
    "    '''\n",
    "    if f_name == \"BOVW\":\n",
    "        print('----------- Bag of Visual Words -----------')\n",
    "        t0 = time()\n",
    "        bovw_param = bovw.BOVW(random_state=random_state,\n",
    "                               n_patches=n_patches, tam_patch=tam_patch, n_dic=n_dic)\n",
    "        features = bovw.execute_Bovw(\n",
    "            img_dataset, bovw_param, n_imgs)\n",
    "        query_feature = bovw.get_bovw_features(query_img, bovw_param)\n",
    "        print(\"BOVW features Creation time: %0.3fs\" % (time() - t0))\n",
    "    elif f_name == \"SIFT\":\n",
    "        print('----------- SIFT -----------')\n",
    "        t0 = time()\n",
    "        sift_keypoints, features = SIFT.execute_sift(img_dataset, 1000)\n",
    "        query_feature = SIFT.get_sift_features(query_img)\n",
    "        print(\"SIFT features Creation time: %0.3fs\" % (time() - t0))\n",
    "    elif f_name == \"MPEG7\":\n",
    "        print('----------- MPEG7 -----------')\n",
    "        t0 = time()\n",
    "        features = mpeg7.execute_mpeg7(img_dataset)\n",
    "        query_feature = mpeg7.get_mpeg7_features(query_img)\n",
    "        print(\"MPEG7 features Creation time: %0.3fs\" % (time() - t0))\n",
    "\n",
    "    '''----------- Candidate Selection ---------------'''\n",
    "    t0 = time()\n",
    "    cand_img, cand_features = cand_selec.select_candidates(\n",
    "        f_name, k, features, query_feature, img_dataset, n_imgs)\n",
    "    print(\"Candidate Selection time: %0.3fs\" % (time() - t0))\n",
    "\n",
    "    return cand_img, cand_features"
   ]
  },
  {
   "cell_type": "code",
   "execution_count": null,
   "metadata": {},
   "outputs": [
    {
     "name": "stdout",
     "output_type": "stream",
     "text": [
      "Data Set Creation time: 31.688s\n"
     ]
    }
   ],
   "source": [
    "t0 = time()\n",
    "# Read arguments from command line\n",
    "args = parser.parse_args([\"--k\", \"50\", \"--query\", \"000036\"])\n",
    "k = int(args.k)\n",
    "query = args.query\n",
    "path_query = os.getcwd() + img_folder_path + query + '.jpg'\n",
    "query_img = cv2.imread(path_query)\n",
    "\n",
    "'''----------- Creating Data Set ------------------'''\n",
    "image_classSet = dataset.extract_imageDescrip(\n",
    "    img_class_set_names, img_class_path)\n",
    "image_dataset, n_imgs = dataset.create_dataset(img_folder_path)\n",
    "print(\"Data Set Creation time: %0.3fs\" % (time() - t0))\n"
   ]
  },
  {
   "cell_type": "code",
   "execution_count": 18,
   "metadata": {},
   "outputs": [
    {
     "name": "stdout",
     "output_type": "stream",
     "text": [
      "----------- MPEG7 -----------\n",
      "MPEG7 features Creation time: 26.022s\n",
      "Candidate Selection time: 0.108s\n",
      "----------- Bag of Visual Words -----------\n",
      "------------------ Feature Extraction - Bag of Visual Words - START ----------\n",
      "Patches extracted to create dictionary of features\n",
      "Total of images =  5011\n",
      "Size of each array of patches =  (250, 675)\n",
      "Patches Creation time: 42.631s\n",
      "Instances =  1252750  size =  10\n",
      "Created LBP feature spaces\n",
      "\tpatches =  1252750  size =  10\n",
      "LBP Instance Creation time: 74.118s\n",
      "Kmeans fitting time: 373.672s\n",
      "Creation of image features: 4.815s\n",
      "Number of images and features =  (5011, 50)\n",
      "------------------ Feature Extraction - Bag of Visual Words - END ------------\n",
      "BOVW features Creation time: 504.488s\n",
      "Candidate Selection time: 0.088s\n"
     ]
    }
   ],
   "source": [
    "'''Extract image features, candidates using knn & create constraints for given feature name'''\n",
    "cand_img_mpeg7, cand_features_mpeg7 = gen_feats(\"MPEG7\", query_img, k,\n",
    "                                     image_classSet, image_dataset, n_imgs)\n",
    "cand_img_bovw, cand_features_bovw = gen_feats(\"BOVW\", query_img, k,\n",
    "                                   image_classSet, image_dataset, n_imgs)\n"
   ]
  },
  {
   "cell_type": "code",
   "execution_count": 19,
   "metadata": {},
   "outputs": [
    {
     "name": "stdout",
     "output_type": "stream",
     "text": [
      "----------- SIFT -----------\n",
      "SIFT features Creation time: 575.491s\n",
      "Candidate Selection time: 33.256s\n"
     ]
    }
   ],
   "source": [
    "'''Extract image features, candidates using knn & create constraints for given feature name'''\n",
    "cand_img_sift, cand_features_sift = gen_feats(\"SIFT\", query_img, k,\n",
    "                         image_classSet, image_dataset, n_imgs)\n"
   ]
  },
  {
   "cell_type": "code",
   "execution_count": 20,
   "metadata": {},
   "outputs": [
    {
     "name": "stdout",
     "output_type": "stream",
     "text": [
      "Constraint Creation time: 0.256s\n"
     ]
    }
   ],
   "source": [
    "'''----------- Constraint Creation ---------------'''\n",
    "t0 = time()\n",
    "cand_img_mpeg7, cons_mpeg7 = gen_cons.generate_constraints(\n",
    "    cand_img_mpeg7, cand_features_mpeg7, image_classSet)\n",
    "cand_img_bovw, cons_bovw = gen_cons.generate_constraints(\n",
    "    cand_img_bovw, cand_features_bovw, image_classSet)\n",
    "cand_img_sift, cons_sift = gen_cons.generate_constraints(\n",
    "    cand_img_sift, cand_features_bovw, image_classSet)\n",
    "print(\"Constraint Creation time: %0.3fs\" % (time() - t0))\n"
   ]
  },
  {
   "cell_type": "code",
   "execution_count": 21,
   "metadata": {},
   "outputs": [
    {
     "name": "stdout",
     "output_type": "stream",
     "text": [
      "COP Kmeans Clusters:\n",
      "Cluster 1 :\n",
      "007855, 000125, 006162, 006585, 004391, 000382, 000380, 000862, 003657, 002241, 008968, 005897, 006258.\n",
      "Cluster 2 :\n",
      "000729, 000460, 008989.\n",
      "Cluster 3 :\n",
      "000036, 002938, 009700, 001405, 009144, 006751, 001203, 009717, 005854, 008258, 005805, 005202, 000849, 001348, 002969, 006026, 004537, 002287, 006091, 004368, 003772, 001209.\n",
      "Cluster 4 :\n",
      "009524, 008008, 001427, 005315, 002669, 003189, 007122, 003044, 008892, 001686, 003567, 008944.\n",
      "PC Kmeans Clusters:\n",
      "Cluster 1 :\n",
      "000036, 002938, 009700, 001405, 009144, 006751, 001203, 009717, 005854, 008258, 005805, 005202, 000849, 001348, 002969, 006026, 004537, 002287, 006091, 004368, 003772, 001209.\n",
      "Cluster 2 :\n",
      "007855, 000125, 006162, 006585, 004391, 000382, 000380, 000862, 003657, 002241, 008968, 005897, 006258.\n",
      "Cluster 3 :\n",
      "009524, 008008, 001427, 005315, 002669, 003189, 007122, 003044, 008892, 001686, 003567, 008944.\n",
      "Cluster 4 :\n",
      "000729, 000460, 008989.\n",
      "COPKMeans Silhouette Score(n=50): 0.19780962617910652\n",
      "PCKMeans Silhouette Score(n=50): 0.19780962617910652\n"
     ]
    }
   ],
   "source": [
    "'''Generate Clusters'''\n",
    "mpeg7_copk_clus, mpeg7_copk_labels = gen_clus(\n",
    "    \"COP\", cand_img_mpeg7, cons_mpeg7, \"MPEG7\")\n",
    "mpeg7_pck_clus, mpeg7_pck_labels = gen_clus(\n",
    "    \"PC\", cand_img_mpeg7, cons_mpeg7, \"MPEG7\")\n",
    "\n",
    "'''Evaluate Clustering'''\n",
    "print(\n",
    "    f'COPKMeans Silhouette Score(n={k}): {clus_eval.silhouette_score(\"MPEG7\", cons_mpeg7.x, mpeg7_copk_labels, len(cons_mpeg7.descripList))}')\n",
    "print(\n",
    "    f'PCKMeans Silhouette Score(n={k}): {clus_eval.silhouette_score(\"MPEG7\", cons_mpeg7.x, mpeg7_pck_labels, len(cons_mpeg7.descripList))}')\n"
   ]
  },
  {
   "cell_type": "code",
   "execution_count": 22,
   "metadata": {},
   "outputs": [
    {
     "name": "stdout",
     "output_type": "stream",
     "text": [
      "COP Kmeans Clusters:\n",
      "Cluster 1 :\n",
      "005676, 008835, 004682, 001878, 004333, 001158.\n",
      "Cluster 2 :\n",
      "000036, 002199, 004264, 000225, 008815, 006495, 005653, 005006, 008773, 006234, 008115, 004634, 009323, 007230, 000682, 005812, 005352, 000359, 003698, 002977, 006295, 005161, 009429, 001192, 006219, 002034, 008722, 003772, 000416.\n",
      "Cluster 3 :\n",
      "003170, 009717, 007683, 003645, 004008.\n",
      "Cluster 4 :\n",
      "006719, 006371, 006747, 002804, 000871, 005893, 004140, 006736, 000552, 005169.\n",
      "PC Kmeans Clusters:\n",
      "Cluster 1 :\n",
      "000036, 002199, 004264, 000225, 008815, 006495, 005653, 005006, 008773, 006234, 008115, 004634, 009323, 007230, 000682, 005812, 005352, 000359, 003698, 002977, 006295, 005161, 009429, 001192, 006219, 002034, 008722, 003772, 000416.\n",
      "Cluster 2 :\n",
      "006719, 006371, 006747, 002804, 000871, 005893, 004140, 006736, 000552, 005169.\n",
      "Cluster 3 :\n",
      "005676, 008835, 004682, 001878, 004333, 001158.\n",
      "Cluster 4 :\n",
      "003170, 009717, 007683, 003645, 004008.\n",
      "COPKMeans Silhouette Score(n=50): 0.22599972353197229\n",
      "PCKMeans Silhouette Score(n=50): 0.22599972353197223\n"
     ]
    },
    {
     "ename": "NameError",
     "evalue": "name 'sklearn' is not defined",
     "output_type": "error",
     "traceback": [
      "\u001b[0;31m---------------------------------------------------------------------------\u001b[0m",
      "\u001b[0;31mNameError\u001b[0m                                 Traceback (most recent call last)",
      "\u001b[0;32m<ipython-input-22-e67f3bdd4cc3>\u001b[0m in \u001b[0;36m<module>\u001b[0;34m\u001b[0m\n\u001b[1;32m     11\u001b[0m     f'PCKMeans Silhouette Score(n={k}): {clus_eval.silhouette_score(\"BOVW\", cons_bovw.x, bovw_pck_labels, len(cons_bovw.descripList))}')\n\u001b[1;32m     12\u001b[0m \u001b[0;34m\u001b[0m\u001b[0m\n\u001b[0;32m---> 13\u001b[0;31m \u001b[0mscore2\u001b[0m \u001b[0;34m=\u001b[0m \u001b[0msklearn\u001b[0m\u001b[0;34m.\u001b[0m\u001b[0mmetrics\u001b[0m\u001b[0;34m.\u001b[0m\u001b[0mcalinski_harabasz_score\u001b[0m\u001b[0;34m(\u001b[0m\u001b[0mcons_bovw\u001b[0m\u001b[0;34m.\u001b[0m\u001b[0mx\u001b[0m\u001b[0;34m,\u001b[0m \u001b[0mbovw_copk_labels\u001b[0m\u001b[0;34m)\u001b[0m\u001b[0;34m\u001b[0m\u001b[0;34m\u001b[0m\u001b[0m\n\u001b[0m\u001b[1;32m     14\u001b[0m \u001b[0mprint\u001b[0m\u001b[0;34m(\u001b[0m\u001b[0;34m\"Score:\"\u001b[0m\u001b[0;34m,\u001b[0m  \u001b[0mscore2\u001b[0m\u001b[0;34m)\u001b[0m\u001b[0;34m\u001b[0m\u001b[0;34m\u001b[0m\u001b[0m\n",
      "\u001b[0;31mNameError\u001b[0m: name 'sklearn' is not defined"
     ]
    }
   ],
   "source": [
    "'''Generate Clusters'''\n",
    "bovw_copk_clus, bovw_copk_labels = gen_clus(\n",
    "    \"COP\", cand_img_bovw, cons_bovw, \"BOVW\")\n",
    "bovw_copk_clus, bovw_pck_labels = gen_clus(\n",
    "    \"PC\", cand_img_bovw, cons_bovw, \"BOVW\")\n",
    "\n",
    "'''Evaluate Clustering'''\n",
    "print(\n",
    "    f'COPKMeans Silhouette Score(n={k}): {clus_eval.silhouette_score(\"BOVW\", cons_bovw.x, bovw_copk_labels, len(cons_bovw.descripList))}')\n",
    "print(\n",
    "    f'PCKMeans Silhouette Score(n={k}): {clus_eval.silhouette_score(\"BOVW\", cons_bovw.x, bovw_pck_labels, len(cons_bovw.descripList))}')\n",
    "\n"
   ]
  },
  {
   "cell_type": "code",
   "execution_count": null,
   "metadata": {},
   "outputs": [
    {
     "ename": "error",
     "evalue": "OpenCV(4.5.5) D:\\a\\opencv-python\\opencv-python\\opencv\\modules\\core\\src\\batch_distance.cpp:275: error: (-215:Assertion failed) type == src2.type() && src1.cols == src2.cols && (type == CV_32F || type == CV_8U) in function 'cv::batchDistance'\n",
     "output_type": "error",
     "traceback": [
      "\u001b[1;31m---------------------------------------------------------------------------\u001b[0m",
      "\u001b[1;31merror\u001b[0m                                     Traceback (most recent call last)",
      "\u001b[1;32mc:\\Users\\Moinam\\Documents\\GitHub\\ATiML\\project_code.ipynb Cell 9'\u001b[0m in \u001b[0;36m<cell line: 2>\u001b[1;34m()\u001b[0m\n\u001b[0;32m      <a href='vscode-notebook-cell:/c%3A/Users/Moinam/Documents/GitHub/ATiML/project_code.ipynb#ch0000007?line=0'>1</a>\u001b[0m \u001b[39m'''Generate Clusters'''\u001b[39;00m\n\u001b[1;32m----> <a href='vscode-notebook-cell:/c%3A/Users/Moinam/Documents/GitHub/ATiML/project_code.ipynb#ch0000007?line=1'>2</a>\u001b[0m sift_copk_clus, sift_copk_labels \u001b[39m=\u001b[39m gen_clus(\n\u001b[0;32m      <a href='vscode-notebook-cell:/c%3A/Users/Moinam/Documents/GitHub/ATiML/project_code.ipynb#ch0000007?line=2'>3</a>\u001b[0m     \u001b[39m\"\u001b[39;49m\u001b[39mCOP\u001b[39;49m\u001b[39m\"\u001b[39;49m, cand_img_sift, cons_sift, \u001b[39m\"\u001b[39;49m\u001b[39mSIFT\u001b[39;49m\u001b[39m\"\u001b[39;49m)\n\u001b[0;32m      <a href='vscode-notebook-cell:/c%3A/Users/Moinam/Documents/GitHub/ATiML/project_code.ipynb#ch0000007?line=3'>4</a>\u001b[0m sift_pck_clus, sift_pck_labels \u001b[39m=\u001b[39m gen_clus(\n\u001b[0;32m      <a href='vscode-notebook-cell:/c%3A/Users/Moinam/Documents/GitHub/ATiML/project_code.ipynb#ch0000007?line=4'>5</a>\u001b[0m     \u001b[39m\"\u001b[39m\u001b[39mPC\u001b[39m\u001b[39m\"\u001b[39m, cand_img_sift, cons_sift, \u001b[39m\"\u001b[39m\u001b[39mSIFT\u001b[39m\u001b[39m\"\u001b[39m)\n\u001b[0;32m      <a href='vscode-notebook-cell:/c%3A/Users/Moinam/Documents/GitHub/ATiML/project_code.ipynb#ch0000007?line=6'>7</a>\u001b[0m \u001b[39m'''Evaluate Clustering'''\u001b[39;00m\n",
      "\u001b[1;32mc:\\Users\\Moinam\\Documents\\GitHub\\ATiML\\project_code.ipynb Cell 2'\u001b[0m in \u001b[0;36mgen_clus\u001b[1;34m(c_name, cand_img, cons, f_name)\u001b[0m\n\u001b[0;32m     <a href='vscode-notebook-cell:/c%3A/Users/Moinam/Documents/GitHub/ATiML/project_code.ipynb#ch0000001?line=13'>14</a>\u001b[0m     \u001b[39m'''---------------- PC-Kmeans ---------------'''\u001b[39;00m\n\u001b[0;32m     <a href='vscode-notebook-cell:/c%3A/Users/Moinam/Documents/GitHub/ATiML/project_code.ipynb#ch0000001?line=14'>15</a>\u001b[0m     c_kmeans \u001b[39m=\u001b[39m PCK\u001b[39m.\u001b[39mPC_Kmeans(\u001b[39mlen\u001b[39m(cons\u001b[39m.\u001b[39mdescripList), cons\u001b[39m.\u001b[39mml_g, cons\u001b[39m.\u001b[39mcl_g,\n\u001b[0;32m     <a href='vscode-notebook-cell:/c%3A/Users/Moinam/Documents/GitHub/ATiML/project_code.ipynb#ch0000001?line=15'>16</a>\u001b[0m                              cons\u001b[39m.\u001b[39mneighborhoods, cons\u001b[39m.\u001b[39my)\n\u001b[1;32m---> <a href='vscode-notebook-cell:/c%3A/Users/Moinam/Documents/GitHub/ATiML/project_code.ipynb#ch0000001?line=17'>18</a>\u001b[0m c_kmeans\u001b[39m.\u001b[39;49mfit(cons\u001b[39m.\u001b[39;49mx)\n\u001b[0;32m     <a href='vscode-notebook-cell:/c%3A/Users/Moinam/Documents/GitHub/ATiML/project_code.ipynb#ch0000001?line=18'>19</a>\u001b[0m labels \u001b[39m=\u001b[39m c_kmeans\u001b[39m.\u001b[39mpredict(cons\u001b[39m.\u001b[39mx)\n\u001b[0;32m     <a href='vscode-notebook-cell:/c%3A/Users/Moinam/Documents/GitHub/ATiML/project_code.ipynb#ch0000001?line=20'>21</a>\u001b[0m \u001b[39mprint\u001b[39m(\u001b[39mf\u001b[39m\u001b[39m'\u001b[39m\u001b[39m{\u001b[39;00mc_name\u001b[39m}\u001b[39;00m\u001b[39m Kmeans Clusters:\u001b[39m\u001b[39m'\u001b[39m)\n",
      "File \u001b[1;32mc:\\Users\\Moinam\\Documents\\GitHub\\ATiML\\COP_Kmeans.py:37\u001b[0m, in \u001b[0;36mCOP_KMeans.fit\u001b[1;34m(self, data, initial_method)\u001b[0m\n\u001b[0;32m     35\u001b[0m \u001b[39mif\u001b[39;00m \u001b[39mself\u001b[39m\u001b[39m.\u001b[39mf_name \u001b[39m==\u001b[39m \u001b[39m\"\u001b[39m\u001b[39mSIFT\u001b[39m\u001b[39m\"\u001b[39m:\n\u001b[0;32m     36\u001b[0m     bf \u001b[39m=\u001b[39m cv2\u001b[39m.\u001b[39mBFMatcher(cv2\u001b[39m.\u001b[39mNORM_L2, crossCheck\u001b[39m=\u001b[39m\u001b[39mTrue\u001b[39;00m)\n\u001b[1;32m---> 37\u001b[0m     distances \u001b[39m=\u001b[39m {center_index: \u001b[39mlen\u001b[39m(\u001b[39msorted\u001b[39m(bf\u001b[39m.\u001b[39mmatch(\n\u001b[0;32m     38\u001b[0m         data[x_index], \u001b[39mself\u001b[39m\u001b[39m.\u001b[39mcentroids[center_index]), key\u001b[39m=\u001b[39m\u001b[39mlambda\u001b[39;00m x: x\u001b[39m.\u001b[39mdistance))\u001b[39mfor\u001b[39;00m center_index \u001b[39min\u001b[39;00m \u001b[39mself\u001b[39m\u001b[39m.\u001b[39mcentroids}\n\u001b[0;32m     39\u001b[0m \u001b[39melse\u001b[39;00m:\n\u001b[0;32m     40\u001b[0m     distances \u001b[39m=\u001b[39m {center_index: np\u001b[39m.\u001b[39mlinalg\u001b[39m.\u001b[39mnorm(data[x_index] \u001b[39m-\u001b[39m \u001b[39mself\u001b[39m\u001b[39m.\u001b[39mcentroids[center_index])\u001b[39mfor\u001b[39;00m center_index \u001b[39min\u001b[39;00m \u001b[39mself\u001b[39m\u001b[39m.\u001b[39mcentroids}\n",
      "File \u001b[1;32mc:\\Users\\Moinam\\Documents\\GitHub\\ATiML\\COP_Kmeans.py:37\u001b[0m, in \u001b[0;36m<dictcomp>\u001b[1;34m(.0)\u001b[0m\n\u001b[0;32m     35\u001b[0m \u001b[39mif\u001b[39;00m \u001b[39mself\u001b[39m\u001b[39m.\u001b[39mf_name \u001b[39m==\u001b[39m \u001b[39m\"\u001b[39m\u001b[39mSIFT\u001b[39m\u001b[39m\"\u001b[39m:\n\u001b[0;32m     36\u001b[0m     bf \u001b[39m=\u001b[39m cv2\u001b[39m.\u001b[39mBFMatcher(cv2\u001b[39m.\u001b[39mNORM_L2, crossCheck\u001b[39m=\u001b[39m\u001b[39mTrue\u001b[39;00m)\n\u001b[1;32m---> 37\u001b[0m     distances \u001b[39m=\u001b[39m {center_index: \u001b[39mlen\u001b[39m(\u001b[39msorted\u001b[39m(bf\u001b[39m.\u001b[39;49mmatch(\n\u001b[0;32m     38\u001b[0m         data[x_index], \u001b[39mself\u001b[39;49m\u001b[39m.\u001b[39;49mcentroids[center_index]), key\u001b[39m=\u001b[39m\u001b[39mlambda\u001b[39;00m x: x\u001b[39m.\u001b[39mdistance))\u001b[39mfor\u001b[39;00m center_index \u001b[39min\u001b[39;00m \u001b[39mself\u001b[39m\u001b[39m.\u001b[39mcentroids}\n\u001b[0;32m     39\u001b[0m \u001b[39melse\u001b[39;00m:\n\u001b[0;32m     40\u001b[0m     distances \u001b[39m=\u001b[39m {center_index: np\u001b[39m.\u001b[39mlinalg\u001b[39m.\u001b[39mnorm(data[x_index] \u001b[39m-\u001b[39m \u001b[39mself\u001b[39m\u001b[39m.\u001b[39mcentroids[center_index])\u001b[39mfor\u001b[39;00m center_index \u001b[39min\u001b[39;00m \u001b[39mself\u001b[39m\u001b[39m.\u001b[39mcentroids}\n",
      "\u001b[1;31merror\u001b[0m: OpenCV(4.5.5) D:\\a\\opencv-python\\opencv-python\\opencv\\modules\\core\\src\\batch_distance.cpp:275: error: (-215:Assertion failed) type == src2.type() && src1.cols == src2.cols && (type == CV_32F || type == CV_8U) in function 'cv::batchDistance'\n"
     ]
    }
   ],
   "source": [
    "'''Generate Clusters'''\n",
    "sift_copk_clus, sift_copk_labels = gen_clus(\n",
    "    \"COP\", cand_img_sift, cons_sift, \"SIFT\")\n",
    "sift_pck_clus, sift_pck_labels = gen_clus(\n",
    "    \"PC\", cand_img_sift, cons_sift, \"SIFT\")\n",
    "\n",
    "'''Evaluate Clustering'''\n",
    "print(\n",
    "    f'COPKMeans Silhouette Score(n={k}): {clus_eval.silhouette_score(\"SIFT\", cons_sift.x, sift_copk_labels, len(cons_sift.descripList))}')\n",
    "print(\n",
    "    f'PCKMeans Silhouette Score(n={k}): {clus_eval.silhouette_score(\"SIFT\", cons_sift.x, sift_pck_labels, len(cons_sift.descripList))}')\n",
    "\n"
   ]
  },
  {
   "cell_type": "code",
   "execution_count": null,
   "metadata": {},
   "outputs": [],
   "source": []
  }
 ],
 "metadata": {
  "kernelspec": {
   "display_name": "Python 3.8.8 ('base')",
   "language": "python",
   "name": "python3"
  },
  "language_info": {
   "codemirror_mode": {
    "name": "ipython",
    "version": 3
   },
   "file_extension": ".py",
   "mimetype": "text/x-python",
   "name": "python",
   "nbconvert_exporter": "python",
   "pygments_lexer": "ipython3",
   "version": "3.8.8"
  },
  "vscode": {
   "interpreter": {
    "hash": "3067ad5ad9b79cc0abf3e6bf1e49a6628c52300f0ad0272af5419bff1f0eada3"
   }
  }
 },
 "nbformat": 4,
 "nbformat_minor": 4
}
