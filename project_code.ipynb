{
 "cells": [
  {
   "cell_type": "code",
   "execution_count": 1,
   "metadata": {},
   "outputs": [],
   "source": [
    "import cv2\n",
    "import os\n",
    "import argparse\n",
    "import matplotlib.pyplot as plt\n",
    "import os\n",
    "from time import time\n",
    "from sklearn import metrics\n",
    "import Dataset as dataset\n",
    "import bag_of_visual_words as bovw\n",
    "import mpeg7_color_layout as mpeg7\n",
    "import candidate_selection as cand_selec\n",
    "import constraint_creation as gen_cons\n",
    "import sift as SIFT\n",
    "import PC_Kmeans as PCK\n",
    "import COP_Kmeans as COPK\n",
    "# --------Acepting Input----------\n",
    "# Initialize parser\n",
    "parser = argparse.ArgumentParser()\n",
    "# Adding arguments\n",
    "parser.add_argument(\"--k\", required=True)\n",
    "parser.add_argument(\"--query\", required=True)\n",
    "# ---------------------------------\n",
    "\n",
    "# -------------- Parameter Declaration -------------------\n",
    "img_folder_path = '\\\\VOCtrainval_06-Nov-2007\\\\VOCdevkit\\\\VOC2007\\\\JPEGImages\\\\'\n",
    "img_class_path = '\\\\VOCtrainval_06-Nov-2007\\\\VOCdevkit\\\\VOC2007\\\\ImageSets\\\\Main\\\\processed_files\\\\'\n",
    "img_class_set_names = [{'name': 'aeroplane', 'type': 'vehicle'},\n",
    "                       {'name': 'bicycle', 'type': 'vehicle'},\n",
    "                       {'name': 'bird', 'type': 'animal'},\n",
    "                       {'name': 'boat', 'type': 'vehicle'},\n",
    "                       {'name': 'bottle', 'type': 'furniture'},\n",
    "                       {'name': 'bus', 'type': 'vehicle'},\n",
    "                       {'name': 'car', 'type': 'vehicle'},\n",
    "                       {'name': 'cat', 'type': 'animal'},\n",
    "                       {'name': 'chair', 'type': 'furniture'},\n",
    "                       {'name': 'cow', 'type': 'animal'},\n",
    "                       {'name': 'diningtable', 'type': 'furniture'},\n",
    "                       {'name': 'dog', 'type': 'animal'},\n",
    "                       {'name': 'horse', 'type': 'animal'},\n",
    "                       {'name': 'motorbike', 'type': 'vehicle'},\n",
    "                       {'name': 'person', 'type': 'person'},\n",
    "                       {'name': 'pottedplant', 'type': 'furniture'},\n",
    "                       {'name': 'sheep', 'type': 'animal'},\n",
    "                       {'name': 'sofa', 'type': 'furniture'},\n",
    "                       {'name': 'train', 'type': 'vehicle'},\n",
    "                       {'name': 'tvmonitor', 'type': 'electronics'}]\n",
    "# BOVW parameters\n",
    "bovw_kmeans_model = None\n",
    "tam_patch = (15, 15)\n",
    "n_patches = 250\n",
    "random_state = 1\n",
    "n_dic = 50  # size of the dictionary"
   ]
  },
  {
   "cell_type": "code",
   "execution_count": 2,
   "metadata": {},
   "outputs": [],
   "source": [
    "def gen_clus(c_name, cand_img, cons, f_name):\n",
    "    '''Generate and Print Constrainted Cluster\\n\n",
    "       Parameters\n",
    "           c_name: cluster name\n",
    "           cand_img: candidate image list\n",
    "           cons: Constraint class object\n",
    "           f_name: feature name\n",
    "    '''\n",
    "    if c_name == \"COP\":\n",
    "        '''---------------- COP-Kmeans ---------------'''\n",
    "        c_kmeans = COPK.COP_KMeans(\n",
    "            len(cons.descripList), cons.ml_g, cons.cl_g, f_name)\n",
    "        c_kmeans.fit(cons.x)\n",
    "    else:\n",
    "        '''---------------- PC-Kmeans ---------------'''\n",
    "        c_kmeans = PCK.PC_Kmeans(len(cons.descripList), cons.ml_g, cons.cl_g,\n",
    "                              cons.neighborhoods, cons.y)\n",
    "        c_kmeans.fit(cons.x)\n",
    "\n",
    "    print(f'{c_name} Kmeans Clusters:')\n",
    "    for i in range(len(c_kmeans.clusters)):\n",
    "        print(f'Cluster {i+1} :')\n",
    "        count = 0\n",
    "        for index in c_kmeans.clusters[i]:\n",
    "            count += 1\n",
    "            if count != len(c_kmeans.clusters[i]):\n",
    "                print(f'{cand_img[index].filename}, ', end='')\n",
    "            else:\n",
    "                print(f'{cand_img[index].filename}.')\n",
    "\n",
    "    return c_kmeans, \n",
    "\n",
    "def execute(f_name, query_img, k, img_classSet, img_dataset, n_imgs):\n",
    "    '''Generate and Print Constrainted Cluster\\n\n",
    "       Parameters\n",
    "           f_name: cluster name\n",
    "           query_img: the query image\n",
    "           k: k neighbours for kNN\n",
    "           img_classSet: label class array\n",
    "           img_dataset: image dataset\n",
    "           n_imgs: Length of img List\n",
    "    '''\n",
    "    if f_name == \"BOVW\":\n",
    "        print('----------- Bag of Visual Words -----------')\n",
    "        t0 = time()\n",
    "        bovw_param = bovw.BOVW(random_state=random_state,\n",
    "                               n_patches=n_patches, tam_patch=tam_patch, n_dic=n_dic)\n",
    "        features = bovw.execute_Bovw(\n",
    "            img_dataset, bovw_param, n_imgs)\n",
    "        query_feature = bovw.get_bovw_features(query_img, bovw_param)\n",
    "        print(\"BOVW features Creation time: %0.3fs\" % (time() - t0))\n",
    "    elif f_name == \"SIFT\":\n",
    "        print('----------- SIFT -----------')\n",
    "        t0 = time()\n",
    "        sift_keypoints, features = SIFT.execute_sift(img_dataset)\n",
    "        query_feature = SIFT.get_sift_features(query_img)\n",
    "        print(\"SIFT features Creation time: %0.3fs\" % (time() - t0))\n",
    "    elif f_name == \"MPEG7\":\n",
    "        print('----------- MPEG7 -----------')\n",
    "        t0 = time()\n",
    "        features = mpeg7.execute_mpeg7(img_dataset)\n",
    "        query_feature = mpeg7.get_mpeg7_features(query_img)\n",
    "        print(\"MPEG7 features Creation time: %0.3fs\" % (time() - t0))\n",
    "\n",
    "    '''----------- Candidate Selection ---------------'''\n",
    "    t0 = time()\n",
    "    cand_img, cand_features = cand_selec.select_candidates(\n",
    "        f_name, k, features, query_feature, img_dataset, n_imgs)\n",
    "    print(\"Candidate Selection time: %0.3fs\" % (time() - t0))\n",
    "\n",
    "    '''----------- Constraint Creation ---------------'''\n",
    "    t0 = time()\n",
    "    cand_img, cons = gen_cons.generate_constraints(\n",
    "        cand_img, cand_features, img_classSet)\n",
    "    print(\"Constraint Creation time: %0.3fs\" % (time() - t0))\n",
    "\n",
    "    return cand_img, cons"
   ]
  },
  {
   "cell_type": "code",
   "execution_count": 4,
   "metadata": {},
   "outputs": [
    {
     "name": "stdout",
     "output_type": "stream",
     "text": [
      "Data Set Creation time: 6.963s\n"
     ]
    }
   ],
   "source": [
    "t0 = time()\n",
    "# Read arguments from command line\n",
    "args = parser.parse_args([\"--k\", \"50\", \"--query\", \"000036\"])\n",
    "k = int(args.k)\n",
    "query = args.query\n",
    "path_query = os.getcwd() + img_folder_path + query + '.jpg'\n",
    "query_img = cv2.imread(path_query)\n",
    "\n",
    "'''----------- Creating Data Set ------------------'''\n",
    "image_classSet = dataset.extract_imageDescrip(\n",
    "    img_class_set_names, img_class_path)\n",
    "image_dataset, n_imgs = dataset.create_dataset(img_folder_path)\n",
    "print(\"Data Set Creation time: %0.3fs\" % (time() - t0))\n"
   ]
  },
  {
   "cell_type": "code",
   "execution_count": 11,
   "metadata": {},
   "outputs": [
    {
     "name": "stdout",
     "output_type": "stream",
     "text": [
      "----------- MPEG7 -----------\n",
      "MPEG7 features Creation time: 15.041s\n",
      "Candidate Selection time: 0.091s\n",
      "Constraint Creation time: 0.047s\n",
      "----------- Bag of Visual Words -----------\n",
      "------------------ Feature Extraction - Bag of Visual Words - START ----------\n",
      "Patches extracted to create dictionary of features\n",
      "Total of images =  5011\n",
      "Size of each array of patches =  (250, 675)\n",
      "Patches Creation time: 13.353s\n",
      "Instances =  1252750  size =  10\n",
      "Created LBP feature spaces\n",
      "\tpatches =  1252750  size =  10\n",
      "LBP Instance Creation time: 35.148s\n",
      "Kmeans fitting time: 197.784s\n",
      "Creation of image features: 15.240s\n",
      "Number of images and features =  (5011, 50)\n",
      "------------------ Feature Extraction - Bag of Visual Words - END ------------\n",
      "BOVW features Creation time: 261.884s\n",
      "Candidate Selection time: 0.046s\n",
      "Constraint Creation time: 0.077s\n"
     ]
    }
   ],
   "source": [
    "'''Extract image features, candidates using knn & create constraints for given feature name'''\n",
    "cand_img_mpeg7, cons_mpeg7 = execute(\"MPEG7\", query_img, k,\n",
    "                                     image_classSet, image_dataset, n_imgs)\n",
    "cand_img_bovw, cons_bovw = execute(\"BOVW\", query_img, k,\n",
    "                                   image_classSet, image_dataset, n_imgs)\n"
   ]
  },
  {
   "cell_type": "code",
   "execution_count": 16,
   "metadata": {},
   "outputs": [
    {
     "name": "stdout",
     "output_type": "stream",
     "text": [
      "----------- SIFT -----------\n",
      "SIFT features Creation time: 253.648s\n"
     ]
    },
    {
     "ename": "KeyboardInterrupt",
     "evalue": "",
     "output_type": "error",
     "traceback": [
      "\u001b[1;31m---------------------------------------------------------------------------\u001b[0m",
      "\u001b[1;31mKeyboardInterrupt\u001b[0m                         Traceback (most recent call last)",
      "\u001b[1;32mc:\\Users\\Moinam\\Documents\\GitHub\\ATiML\\project_code.ipynb Cell 5'\u001b[0m in \u001b[0;36m<cell line: 2>\u001b[1;34m()\u001b[0m\n\u001b[0;32m      <a href='vscode-notebook-cell:/c%3A/Users/Moinam/Documents/GitHub/ATiML/project_code.ipynb#ch0000029?line=0'>1</a>\u001b[0m \u001b[39m'''Extract image features, candidates using knn & create constraints for given feature name'''\u001b[39;00m\n\u001b[1;32m----> <a href='vscode-notebook-cell:/c%3A/Users/Moinam/Documents/GitHub/ATiML/project_code.ipynb#ch0000029?line=1'>2</a>\u001b[0m cand_img_sift, cons_sift \u001b[39m=\u001b[39m execute(\u001b[39m\"\u001b[39;49m\u001b[39mSIFT\u001b[39;49m\u001b[39m\"\u001b[39;49m, query_img, k,\n\u001b[0;32m      <a href='vscode-notebook-cell:/c%3A/Users/Moinam/Documents/GitHub/ATiML/project_code.ipynb#ch0000029?line=2'>3</a>\u001b[0m                          image_classSet, image_dataset, n_imgs)\n",
      "\u001b[1;32mc:\\Users\\Moinam\\Documents\\GitHub\\ATiML\\project_code.ipynb Cell 2'\u001b[0m in \u001b[0;36mexecute\u001b[1;34m(f_name, query_img, k, img_classSet, img_dataset, n_imgs)\u001b[0m\n\u001b[0;32m     <a href='vscode-notebook-cell:/c%3A/Users/Moinam/Documents/GitHub/ATiML/project_code.ipynb#ch0000013?line=64'>65</a>\u001b[0m \u001b[39m'''----------- Candidate Selection ---------------'''\u001b[39;00m\n\u001b[0;32m     <a href='vscode-notebook-cell:/c%3A/Users/Moinam/Documents/GitHub/ATiML/project_code.ipynb#ch0000013?line=65'>66</a>\u001b[0m t0 \u001b[39m=\u001b[39m time()\n\u001b[1;32m---> <a href='vscode-notebook-cell:/c%3A/Users/Moinam/Documents/GitHub/ATiML/project_code.ipynb#ch0000013?line=66'>67</a>\u001b[0m cand_img, cand_features \u001b[39m=\u001b[39m cand_selec\u001b[39m.\u001b[39;49mselect_candidates(\n\u001b[0;32m     <a href='vscode-notebook-cell:/c%3A/Users/Moinam/Documents/GitHub/ATiML/project_code.ipynb#ch0000013?line=67'>68</a>\u001b[0m     f_name, k, features, query_feature, img_dataset, n_imgs)\n\u001b[0;32m     <a href='vscode-notebook-cell:/c%3A/Users/Moinam/Documents/GitHub/ATiML/project_code.ipynb#ch0000013?line=68'>69</a>\u001b[0m \u001b[39mprint\u001b[39m(\u001b[39m\"\u001b[39m\u001b[39mCandidate Selection time: \u001b[39m\u001b[39m%0.3f\u001b[39;00m\u001b[39ms\u001b[39m\u001b[39m\"\u001b[39m \u001b[39m%\u001b[39m (time() \u001b[39m-\u001b[39m t0))\n\u001b[0;32m     <a href='vscode-notebook-cell:/c%3A/Users/Moinam/Documents/GitHub/ATiML/project_code.ipynb#ch0000013?line=70'>71</a>\u001b[0m \u001b[39m'''----------- Constraint Creation ---------------'''\u001b[39;00m\n",
      "File \u001b[1;32mc:\\Users\\Moinam\\Documents\\GitHub\\ATiML\\candidate_selection.py:44\u001b[0m, in \u001b[0;36mselect_candidates\u001b[1;34m(f_name, k, feature_set, query_feature, image_dataset, n_imgs)\u001b[0m\n\u001b[0;32m     42\u001b[0m imgs \u001b[39m=\u001b[39m []\n\u001b[0;32m     43\u001b[0m features \u001b[39m=\u001b[39m []\n\u001b[1;32m---> 44\u001b[0m dists \u001b[39m=\u001b[39m dist(f_name, feature_set, query_feature, n_imgs)\n\u001b[0;32m     45\u001b[0m \u001b[39mif\u001b[39;00m f_name \u001b[39m==\u001b[39m \u001b[39m\"\u001b[39m\u001b[39mSIFT\u001b[39m\u001b[39m\"\u001b[39m:\n\u001b[0;32m     46\u001b[0m     k_cbir \u001b[39m=\u001b[39m np\u001b[39m.\u001b[39margsort(dists)[::\u001b[39m-\u001b[39m\u001b[39m1\u001b[39m][:k]\n",
      "File \u001b[1;32mc:\\Users\\Moinam\\Documents\\GitHub\\ATiML\\candidate_selection.py:27\u001b[0m, in \u001b[0;36mdist\u001b[1;34m(f_name, img_feats, query_feats, n_imgs)\u001b[0m\n\u001b[0;32m     25\u001b[0m \u001b[39mfor\u001b[39;00m i \u001b[39min\u001b[39;00m \u001b[39mrange\u001b[39m(n_imgs):\n\u001b[0;32m     26\u001b[0m     bf \u001b[39m=\u001b[39m cv2\u001b[39m.\u001b[39mBFMatcher(cv2\u001b[39m.\u001b[39mNORM_L2, crossCheck\u001b[39m=\u001b[39m\u001b[39mTrue\u001b[39;00m)\n\u001b[1;32m---> 27\u001b[0m     matches \u001b[39m=\u001b[39m bf\u001b[39m.\u001b[39;49mmatch(img_feats[i], query_feats)\n\u001b[0;32m     28\u001b[0m     matches \u001b[39m=\u001b[39m \u001b[39msorted\u001b[39m(matches, key\u001b[39m=\u001b[39m\u001b[39mlambda\u001b[39;00m x: x\u001b[39m.\u001b[39mdistance)\n\u001b[0;32m     29\u001b[0m     matches \u001b[39m=\u001b[39m \u001b[39mlen\u001b[39m(matches)\n",
      "\u001b[1;31mKeyboardInterrupt\u001b[0m: "
     ]
    }
   ],
   "source": [
    "'''Extract image features, candidates using knn & create constraints for given feature name'''\n",
    "cand_img_sift, cons_sift = execute(\"SIFT\", query_img, k,\n",
    "                         image_classSet, image_dataset, n_imgs)\n"
   ]
  },
  {
   "cell_type": "code",
   "execution_count": 9,
   "metadata": {},
   "outputs": [
    {
     "name": "stdout",
     "output_type": "stream",
     "text": [
      "COP Kmeans Clusters:\n",
      "Cluster 1 :\n",
      "009524, 008008, 001405, 001427, 005315, 006585, 009717, 007122, 000862, 003044, 001686, 008944.\n",
      "Cluster 2 :\n",
      "000036, 002938, 009700, 009144, 006751, 001203, 002669, 003189, 005854, 008258, 005805, 005202, 000849, 001348, 002969, 006026, 004537, 002287, 006091, 004368, 003772, 001209.\n",
      "Cluster 3 :\n",
      "007855, 000125, 006162, 004391, 000382, 000380, 003657, 008892, 002241, 008968, 005897, 006258, 003567.\n",
      "Cluster 4 :\n",
      "000729, 000460, 008989.\n",
      "PC Kmeans Clusters:\n",
      "Cluster 1 :\n",
      "000036, 002938, 009700, 009144, 006751, 001203, 002669, 003189, 005854, 008258, 005805, 005202, 000849, 001348, 002969, 006026, 004537, 002287, 006091, 004368, 003772, 001209.\n",
      "Cluster 2 :\n",
      "007855, 000125, 006162, 004391, 000382, 000380, 003657, 008892, 002241, 008968, 005897, 006258, 003567.\n",
      "Cluster 3 :\n",
      "009524, 008008, 001405, 001427, 005315, 006585, 009717, 007122, 000862, 003044, 001686, 008944.\n",
      "Cluster 4 :\n",
      "000729, 000460, 008989.\n"
     ]
    }
   ],
   "source": [
    "'''Generate Clusters'''\n",
    "mpeg7_copk_clus = gen_clus(\"COP\", cand_img_mpeg7, cons_mpeg7, \"MPEG7\")\n",
    "mpeg7_pck_clus = gen_clus(\"PC\", cand_img_mpeg7, cons_mpeg7, \"MPEG7\")\n"
   ]
  },
  {
   "cell_type": "code",
   "execution_count": 10,
   "metadata": {},
   "outputs": [
    {
     "name": "stdout",
     "output_type": "stream",
     "text": [
      "COP Kmeans Clusters:\n",
      "Cluster 1 :\n",
      "000552, 005893, 002171, 005064, 002804, 006719, 006371, 006736, 000871.\n",
      "Cluster 2 :\n",
      "000036, 006234, 002199, 005006, 000225, 004264, 005352, 005812, 004008, 006495, 008773, 005169, 008115, 009323, 008815, 000682, 004634, 002977, 007230, 007713, 002330, 003772, 000416, 009429, 001192.\n",
      "Cluster 3 :\n",
      "004760, 005161, 007683, 005639, 009789, 009500, 003645, 000359.\n",
      "Cluster 4 :\n",
      "001878, 003845, 001158, 004682, 008835, 004333, 000868, 004140.\n",
      "PC Kmeans Clusters:\n",
      "Cluster 1 :\n",
      "000036, 006234, 002199, 005006, 000225, 004264, 005352, 005812, 004008, 006495, 008773, 005169, 008115, 009323, 008815, 000682, 004634, 002977, 007230, 007713, 002330, 003772, 000416, 009429, 001192.\n",
      "Cluster 2 :\n",
      "004760, 005161, 007683, 005639, 009789, 009500, 003645, 000359.\n",
      "Cluster 3 :\n",
      "000552, 005893, 002171, 005064, 002804, 006719, 006371, 006736, 000871.\n",
      "Cluster 4 :\n",
      "001878, 003845, 001158, 004682, 008835, 004333, 000868, 004140.\n"
     ]
    }
   ],
   "source": [
    "'''Generate Clusters'''\n",
    "bovw_copk_clus = gen_clus(\"COP\", cand_img_bovw, cons_bovw, \"BOVW\")\n",
    "bovw_pck_clus = gen_clus(\"PC\", cand_img_bovw, cons_bovw, \"BOVW\")\n"
   ]
  },
  {
   "cell_type": "code",
   "execution_count": null,
   "metadata": {},
   "outputs": [],
   "source": [
    "'''Generate Clusters'''\n",
    "sift_copk_clus = gen_clus(\"COP\", cand_img_sift, cons_sift, \"SIFT\")\n",
    "sift_pck_clus = gen_clus(\"PC\", cand_img_sift, cons_sift, \"SIFT\")\n"
   ]
  }
 ],
 "metadata": {
  "kernelspec": {
   "display_name": "Python 3.10.0 64-bit",
   "language": "python",
   "name": "python3"
  },
  "language_info": {
   "codemirror_mode": {
    "name": "ipython",
    "version": 3
   },
   "file_extension": ".py",
   "mimetype": "text/x-python",
   "name": "python",
   "nbconvert_exporter": "python",
   "pygments_lexer": "ipython3",
   "version": "3.10.0"
  },
  "vscode": {
   "interpreter": {
    "hash": "d6aab4b2aef54d783fb82111d43daa381b9e8e172a49076accd0554459707f15"
   }
  }
 },
 "nbformat": 4,
 "nbformat_minor": 4
}
